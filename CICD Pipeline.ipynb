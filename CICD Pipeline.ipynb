{
 "cells": [
  {
   "cell_type": "markdown",
   "metadata": {},
   "source": [
    "# CI/CD Pipeline"
   ]
  },
  {
   "cell_type": "markdown",
   "metadata": {},
   "source": [
    "### Simplified CI/CD Pipeline\n",
    "\n",
    "    - Retrain the model with new interactions via automated experiments\n",
    "    - Evaluate model and promote it if performance is above threshold?\n",
    "    - Save model to model repo (model dir)\n"
   ]
  },
  {
   "cell_type": "code",
   "execution_count": 1,
   "metadata": {},
   "outputs": [],
   "source": [
    "from cmlbootstrap import CMLBootstrap\n",
    "import datetime\n",
    "import os, time"
   ]
  },
  {
   "cell_type": "code",
   "execution_count": 2,
   "metadata": {},
   "outputs": [],
   "source": [
    "HOST = os.getenv(\"CDSW_API_URL\").split(\n",
    "    \":\")[0] + \"://\" + os.getenv(\"CDSW_DOMAIN\")\n",
    "USERNAME = os.getenv(\"CDSW_PROJECT_URL\").split(\n",
    "    \"/\")[6]  # args.username  # \"vdibia\"\n",
    "API_KEY = os.getenv(\"CDSW_API_KEY\") \n",
    "PROJECT_NAME = os.getenv(\"CDSW_PROJECT\") "
   ]
  },
  {
   "cell_type": "code",
   "execution_count": 35,
   "metadata": {},
   "outputs": [],
   "source": [
    "# Instantiate API Wrapper\n",
    "cml = CMLBootstrap(HOST, USERNAME, API_KEY, PROJECT_NAME)"
   ]
  },
  {
   "cell_type": "code",
   "execution_count": 4,
   "metadata": {},
   "outputs": [],
   "source": [
    "run_time_suffix = datetime.datetime.now()\n",
    "run_time_suffix = run_time_suffix.strftime(\"%d%m%Y%H%M%S\")"
   ]
  },
  {
   "cell_type": "code",
   "execution_count": 5,
   "metadata": {},
   "outputs": [
    {
     "name": "stdout",
     "output_type": "stream",
     "text": [
      "Help on CMLBootstrap in module cmlbootstrap.CMLBootstrap object:\n",
      "\n",
      "class CMLBootstrap(builtins.object)\n",
      " |  Wrapper class for calls to the internal CML api.\n",
      " |  \n",
      " |  Attributes:\n",
      " |      host (str): URL for the CML instance host.\n",
      " |      username (str): Current username.\n",
      " |      api_key (str): API key.\n",
      " |      project_name (str): Project name.\n",
      " |  \n",
      " |  Methods defined here:\n",
      " |  \n",
      " |  __init__(self, host, username, api_key, project_name, log_level=20)\n",
      " |      Initialize self.  See help(type(self)) for accurate signature.\n",
      " |  \n",
      " |  add_project_editor(self, params)\n",
      " |  \n",
      " |  create_application(self, params)\n",
      " |      Create an Application\n",
      " |      \n",
      " |      Arguments:\n",
      " |          params {dict} -- [dictionary containing application parameters]\n",
      " |      \n",
      " |      Returns:\n",
      " |          [dict] -- [dictionary containing job details]\n",
      " |  \n",
      " |  create_environment_variable(self, params)\n",
      " |  \n",
      " |  create_job(self, params)\n",
      " |      Create a job\n",
      " |      \n",
      " |      Arguments:\n",
      " |          params {dict} -- [description]\n",
      " |      \n",
      " |      Returns:\n",
      " |          [dict] -- [dictionary containing job details]\n",
      " |  \n",
      " |  create_model(self, params)\n",
      " |      Create a model\n",
      " |      \n",
      " |      Arguments:\n",
      " |          params {dict} -- [dictionary containing model parameters]\n",
      " |      \n",
      " |      Returns:\n",
      " |          [dict] -- [dictionary containing model details]\n",
      " |  \n",
      " |  delete_application(self, application_id, params)\n",
      " |      Delete application given id\n",
      " |      \n",
      " |      Arguments:\n",
      " |          application_id {int} -- application id\n",
      " |          params {dict} -- application details\n",
      " |      \n",
      " |      Returns:\n",
      " |          None -- None\n",
      " |  \n",
      " |  delete_job(self, job_id, params)\n",
      " |      Delete a job given its id\n",
      " |      \n",
      " |      Arguments:\n",
      " |          params {dict} -- [description]\n",
      " |          job_id {str} -- id for job to be deleted\n",
      " |      Returns:\n",
      " |          [dict] -- [None. delete endpoint does not return a value]\n",
      " |  \n",
      " |  delete_model(self, params)\n",
      " |      Delete a project given its id\n",
      " |      \n",
      " |      Arguments:\n",
      " |          params {dict} -- {id: projectId}\n",
      " |      \n",
      " |      Returns:\n",
      " |          dict -- Nothing.\n",
      " |  \n",
      " |  get_application(self, app_id, params)\n",
      " |      Get details for an application\n",
      " |      \n",
      " |      Arguments:\n",
      " |          params {dict} -- None\n",
      " |          app_id {str} -- id for appliacation to be retrieved\n",
      " |      \n",
      " |      Returns:\n",
      " |          {dict} -- dictionary of application details\n",
      " |  \n",
      " |  get_applications(self, params)\n",
      " |      Get list of applications within current project\n",
      " |      \n",
      " |      Arguments:\n",
      " |          params {dict} -- None\n",
      " |      \n",
      " |      Returns:\n",
      " |          list -- list of current applications\n",
      " |  \n",
      " |  get_default_engine(self, params)\n",
      " |      Get the default engine for the given project\n",
      " |      \n",
      " |      Arguments:\n",
      " |          params {dict} -- None needed.\n",
      " |      \n",
      " |      Returns:\n",
      " |          dict -- [dictionary containing default engine details]\n",
      " |  \n",
      " |  get_jobs(self, params)\n",
      " |      Return a list of jobs associated with the given project\n",
      " |      \n",
      " |      Arguments:\n",
      " |          params {dict} -- None\n",
      " |      \n",
      " |      Returns:\n",
      " |          list -- List of jobs\n",
      " |  \n",
      " |  get_model(self, params)\n",
      " |  \n",
      " |  get_models(self, params)\n",
      " |      Return a list of models associated with the given project\n",
      " |      \n",
      " |      Arguments:\n",
      " |          params {dict} -- None\n",
      " |      \n",
      " |      Returns:\n",
      " |          list -- List of models\n",
      " |  \n",
      " |  get_project(self, params)\n",
      " |      Get details for a given project\n",
      " |      \n",
      " |      Arguments:\n",
      " |          params {dict} -- [project parameters]\n",
      " |      \n",
      " |      Returns:\n",
      " |          [dict] -- [dictionary containing project details]\n",
      " |  \n",
      " |  get_user(self, params)\n",
      " |      Get details for a given user\n",
      " |      \n",
      " |      Arguments:\n",
      " |          params {dict} -- [description]\n",
      " |      \n",
      " |      Returns:\n",
      " |          [dict] -- [dictionary containing user details]\n",
      " |  \n",
      " |  run_experiment(self, params)\n",
      " |      Run an experiment\n",
      " |      \n",
      " |      Arguments:\n",
      " |          params {dict} -- []\n",
      " |      \n",
      " |      Returns:\n",
      " |          [dict] -- []\n",
      " |  \n",
      " |  set_model_auth(self, params)\n",
      " |      Enable or disable Model Authentication\n",
      " |      \n",
      " |      Arguments:\n",
      " |          params {dict} -- None, example input {\"id\": 5, \"enableAuth\": False}\n",
      " |          app_id {str} -- id for appliacation to be retrieved\n",
      " |      \n",
      " |      Returns:\n",
      " |                  [dict] -- Nothing\n",
      " |  \n",
      " |  start_job(self, job_id, params)\n",
      " |      Start a job\n",
      " |      \n",
      " |      Arguments:\n",
      " |          params {dict} -- [description]\n",
      " |          job_id {str} -- id for job to be initalized\n",
      " |      \n",
      " |      Returns:\n",
      " |          [dict] -- [ ]\n",
      " |  \n",
      " |  stop_job(self, job_id, params)\n",
      " |      Stop a job\n",
      " |      \n",
      " |      Arguments:\n",
      " |          params {dict} -- [description]\n",
      " |          job_id {str} -- id for job to be stopped\n",
      " |      \n",
      " |      Returns:\n",
      " |          [dict] -- []\n",
      " |  \n",
      " |  ----------------------------------------------------------------------\n",
      " |  Data descriptors defined here:\n",
      " |  \n",
      " |  __dict__\n",
      " |      dictionary for instance variables (if defined)\n",
      " |  \n",
      " |  __weakref__\n",
      " |      list of weak references to the object (if defined)\n",
      "\n"
     ]
    }
   ],
   "source": [
    "help(cml)"
   ]
  },
  {
   "cell_type": "code",
   "execution_count": 6,
   "metadata": {},
   "outputs": [],
   "source": [
    "# Create the YAML file for the model lineage\n",
    "yaml_text = \\\n",
    "\"\"\"\"First Model {}\":\n",
    "  hive_table_qualified_names:                # this is a predefined key to link to training data\n",
    "    - \"default.historical_customer_interactions@cm\"               # the qualifiedName of the hive_table object representing                \n",
    "  metadata:                                  # this is a predefined key for additional metadata\n",
    "    deployment: \"this model was deployed manually\"   # suggested use case: query used to extract training data\n",
    "\n",
    "\"New Model {}\":\n",
    "  hive_table_qualified_names:\n",
    "    - \"default.historical_customer_interactions@cm\"\n",
    "  metadata:\n",
    "    deployment: \"this model was deployed programmatically\"\n",
    "\"\"\".format(run_time_suffix, run_time_suffix)\n",
    "\n",
    "with open('lineage.yml', 'w') as lineage: lineage.write(yaml_text)"
   ]
  },
  {
   "cell_type": "code",
   "execution_count": 7,
   "metadata": {},
   "outputs": [],
   "source": [
    "## yaml file should only be appended not overwritten every time"
   ]
  },
  {
   "cell_type": "code",
   "execution_count": null,
   "metadata": {},
   "outputs": [],
   "source": []
  },
  {
   "cell_type": "code",
   "execution_count": 8,
   "metadata": {},
   "outputs": [],
   "source": [
    "# Get Project Details\n",
    "project_details = cml.get_project({})\n",
    "project_id = project_details[\"id\"]\n",
    "\n",
    "# Get Default Engine Details\n",
    "default_engine_details = cml.get_default_engine({})\n",
    "default_engine_image_id = default_engine_details[\"id\"]"
   ]
  },
  {
   "cell_type": "code",
   "execution_count": 9,
   "metadata": {},
   "outputs": [],
   "source": [
    "# Create Model\n",
    "example_model_input = {\n",
    "  \"recency\": \"2\",\n",
    "  \"history\": \"3\",\n",
    "  \"used_discount\": \"0\",\n",
    "  \"used_bogo\": \"1\",\n",
    "  \"is_referral\": \"1\",\n",
    "  \"channel_Phone\": \"1\",\n",
    "  \"channel_Web\": \"1\",\n",
    "  \"offer_Discount\": \"0\",\n",
    "  \"offer_No Offer\": \"1\"\n",
    "}\n",
    "\n",
    "create_model_params = {\n",
    "    \"projectId\": project_id,\n",
    "    \"name\": \"New Model \" + run_time_suffix,\n",
    "    \"description\": \"First Model Iteration\",\n",
    "    \"visibility\": \"private\",\n",
    "    \"enableAuth\": False,\n",
    "    \"targetFilePath\": \"original_model.py\",\n",
    "    \"targetFunctionName\": \"predict\",\n",
    "    \"engineImageId\": default_engine_image_id,\n",
    "    \"kernel\": \"python3\",\n",
    "    \"examples\": [\n",
    "        {\n",
    "            \"request\": example_model_input,\n",
    "            \"response\": {}\n",
    "        }],\n",
    "    \"cpuMillicores\": 1000,\n",
    "    \"memoryMb\": 2048,\n",
    "    \"nvidiaGPUs\": 0,\n",
    "    \"replicationPolicy\": {\"type\": \"fixed\", \"numReplicas\": 1},\n",
    "    \"environment\": {}}\n"
   ]
  },
  {
   "cell_type": "code",
   "execution_count": 10,
   "metadata": {},
   "outputs": [
    {
     "name": "stdout",
     "output_type": "stream",
     "text": [
      "New model created with access key m9fa12k1pnd9jxorl5pnr53vp20i8uum\n"
     ]
    }
   ],
   "source": [
    "new_model_details = cml.create_model(create_model_params)\n",
    "access_key = new_model_details[\"accessKey\"]  # todo check for bad response\n",
    "model_id = new_model_details[\"id\"]\n",
    "\n",
    "print(\"New model created with access key\", access_key)"
   ]
  },
  {
   "cell_type": "code",
   "execution_count": 11,
   "metadata": {},
   "outputs": [
    {
     "name": "stdout",
     "output_type": "stream",
     "text": [
      "Deploying Model.....\n",
      "Deploying Model.....\n",
      "Deploying Model.....\n",
      "Deploying Model.....\n",
      "Model is deployed\n"
     ]
    }
   ],
   "source": [
    "#Wait for the model to deploy.\n",
    "is_deployed = False\n",
    "while is_deployed == False:\n",
    "    model = cml.get_model({\"id\": str(new_model_details[\"id\"]), \"latestModelDeployment\": True, \"latestModelBuild\": True})\n",
    "    if model[\"latestModelDeployment\"][\"status\"] == 'deployed':\n",
    "        print(\"Model is deployed\")\n",
    "        break\n",
    "    else:\n",
    "        print (\"Deploying Model.....\")\n",
    "        time.sleep(10)"
   ]
  },
  {
   "cell_type": "code",
   "execution_count": 12,
   "metadata": {},
   "outputs": [],
   "source": [
    "##Will let you create new model or delete model but not redeploy programmatically. \n",
    "##Will need to remove model and recreate dynamically"
   ]
  },
  {
   "cell_type": "markdown",
   "metadata": {},
   "source": [
    "Experiments"
   ]
  },
  {
   "cell_type": "code",
   "execution_count": 41,
   "metadata": {},
   "outputs": [],
   "source": [
    "run_experiment_params = {\n",
    "    \"size\": {\n",
    "        \"id\": 1,\n",
    "        \"description\": \"1 vCPU / 2 GiB Memory\",\n",
    "        \"cpu\": 1,\n",
    "        \"memory\": 2,\n",
    "        \"route\": \"engine-profiles\",\n",
    "        \"reqParams\": None,\n",
    "        \"parentResource\": {\n",
    "            \"route\": \"site\",\n",
    "            \"parentResource\": None\n",
    "        },\n",
    "        \"restangularCollection\": False\n",
    "    },\n",
    "    \"script\": \"new_model_experiment.py\",\n",
    "    \"arguments\": \"\",\n",
    "    \"kernel\": \"python3\",\n",
    "    \"cpu\": 1,\n",
    "    \"memory\": 2,\n",
    "    \"project\": str(project_id)\n",
    "}"
   ]
  },
  {
   "cell_type": "code",
   "execution_count": 42,
   "metadata": {},
   "outputs": [
    {
     "name": "stderr",
     "output_type": "stream",
     "text": [
      "ERROR:root:{\"username\":\"Username is required\"}\n",
      "ERROR:root:{'type': 'invalid', 'message': '{\"username\":\"Username is required\"}', 'statusCode': 422, 'fields': {'username': 'Username is required'}, 'code': 'invalid'}\n"
     ]
    },
    {
     "data": {
      "text/plain": [
       "{'code': 'invalid',\n",
       " 'fields': {'username': 'Username is required'},\n",
       " 'message': '{\"username\":\"Username is required\"}',\n",
       " 'statusCode': 422,\n",
       " 'type': 'invalid'}"
      ]
     },
     "execution_count": 42,
     "metadata": {},
     "output_type": "execute_result"
    }
   ],
   "source": [
    "cml.run_experiment(run_experiment_params)"
   ]
  },
  {
   "cell_type": "code",
   "execution_count": 16,
   "metadata": {},
   "outputs": [
    {
     "data": {
      "text/plain": [
       "'pauldefusco'"
      ]
     },
     "execution_count": 16,
     "metadata": {},
     "output_type": "execute_result"
    }
   ],
   "source": [
    "USERNAME"
   ]
  },
  {
   "cell_type": "code",
   "execution_count": null,
   "metadata": {},
   "outputs": [],
   "source": []
  }
 ],
 "metadata": {
  "kernelspec": {
   "display_name": "Python 3",
   "language": "python",
   "name": "python3"
  },
  "language_info": {
   "codemirror_mode": {
    "name": "ipython",
    "version": 3
   },
   "file_extension": ".py",
   "mimetype": "text/x-python",
   "name": "python",
   "nbconvert_exporter": "python",
   "pygments_lexer": "ipython3",
   "version": "3.6.10"
  }
 },
 "nbformat": 4,
 "nbformat_minor": 4
}
