{
 "cells": [
  {
   "cell_type": "markdown",
   "metadata": {},
   "source": [
    "# CI/CD Pipeline"
   ]
  },
  {
   "cell_type": "markdown",
   "metadata": {},
   "source": [
    "### Simplified CI/CD Pipeline\n",
    "\n",
    "    - Retrain the model with new interactions via automated experiments\n",
    "    - Evaluate model and promote it if performance is above threshold?\n",
    "    - Save model to model repo (model dir)\n"
   ]
  },
  {
   "cell_type": "code",
   "execution_count": null,
   "metadata": {},
   "outputs": [],
   "source": [
    "from cmlbootstrap import CMLBootstrap\n",
    "import datetime\n",
    "import os, time"
   ]
  },
  {
   "cell_type": "code",
   "execution_count": null,
   "metadata": {},
   "outputs": [],
   "source": [
    "HOST = os.getenv(\"CDSW_API_URL\").split(\n",
    "    \":\")[0] + \"://\" + os.getenv(\"CDSW_DOMAIN\")\n",
    "USERNAME = os.getenv(\"CDSW_PROJECT_URL\").split(\n",
    "    \"/\")[6]  # args.username  # \"vdibia\"\n",
    "API_KEY = os.getenv(\"CDSW_API_KEY\") \n",
    "PROJECT_NAME = os.getenv(\"CDSW_PROJECT\") "
   ]
  },
  {
   "cell_type": "code",
   "execution_count": null,
   "metadata": {},
   "outputs": [],
   "source": [
    "# Instantiate API Wrapper\n",
    "cml = CMLBootstrap(HOST, USERNAME, API_KEY, PROJECT_NAME)"
   ]
  },
  {
   "cell_type": "code",
   "execution_count": null,
   "metadata": {},
   "outputs": [],
   "source": [
    "run_time_suffix = datetime.datetime.now()\n",
    "run_time_suffix = run_time_suffix.strftime(\"%d%m%Y%H%M%S\")"
   ]
  },
  {
   "cell_type": "code",
   "execution_count": null,
   "metadata": {},
   "outputs": [],
   "source": [
    "help(cml)"
   ]
  },
  {
   "cell_type": "code",
   "execution_count": null,
   "metadata": {},
   "outputs": [],
   "source": [
    "# Create the YAML file for the model lineage\n",
    "yaml_text = \\\n",
    "\"\"\"\"First Model {}\":\n",
    "  hive_table_qualified_names:                # this is a predefined key to link to training data\n",
    "    - \"default.historical_customer_interactions@cm\"               # the qualifiedName of the hive_table object representing                \n",
    "  metadata:                                  # this is a predefined key for additional metadata\n",
    "    deployment: \"this model was deployed manually\"   # suggested use case: query used to extract training data\n",
    "\n",
    "\"New Model {}\":\n",
    "  hive_table_qualified_names:\n",
    "    - \"default.historical_customer_interactions@cm\"\n",
    "  metadata:\n",
    "    deployment: \"this model was deployed programmatically\"\n",
    "\"\"\".format(run_time_suffix, run_time_suffix)\n",
    "\n",
    "with open('lineage.yml', 'w') as lineage: lineage.write(yaml_text)"
   ]
  },
  {
   "cell_type": "code",
   "execution_count": null,
   "metadata": {},
   "outputs": [],
   "source": [
    "## yaml file should only be appended not overwritten every time"
   ]
  },
  {
   "cell_type": "code",
   "execution_count": null,
   "metadata": {},
   "outputs": [],
   "source": [
    "# Get Project Details\n",
    "project_details = cml.get_project({})\n",
    "project_id = project_details[\"id\"]\n",
    "\n",
    "# Get Default Engine Details\n",
    "default_engine_details = cml.get_default_engine({})\n",
    "default_engine_image_id = default_engine_details[\"id\"]"
   ]
  },
  {
   "cell_type": "code",
   "execution_count": null,
   "metadata": {},
   "outputs": [],
   "source": [
    "# Create Model\n",
    "example_model_input = {\n",
    "  \"recency\": \"2\",\n",
    "  \"history\": \"3\",\n",
    "  \"used_discount\": \"0\",\n",
    "  \"used_bogo\": \"1\",\n",
    "  \"is_referral\": \"1\",\n",
    "  \"channel_Phone\": \"1\",\n",
    "  \"channel_Web\": \"1\",\n",
    "  \"offer_Discount\": \"0\",\n",
    "  \"offer_No Offer\": \"1\"\n",
    "}\n",
    "\n",
    "create_model_params = {\n",
    "    \"projectId\": project_id,\n",
    "    \"name\": \"New Model \" + run_time_suffix,\n",
    "    \"description\": \"First Model Iteration\",\n",
    "    \"visibility\": \"private\",\n",
    "    \"enableAuth\": False,\n",
    "    \"targetFilePath\": \"original_model.py\",\n",
    "    \"targetFunctionName\": \"predict\",\n",
    "    \"engineImageId\": default_engine_image_id,\n",
    "    \"kernel\": \"python3\",\n",
    "    \"examples\": [\n",
    "        {\n",
    "            \"request\": example_model_input,\n",
    "            \"response\": {}\n",
    "        }],\n",
    "    \"cpuMillicores\": 1000,\n",
    "    \"memoryMb\": 2048,\n",
    "    \"nvidiaGPUs\": 0,\n",
    "    \"replicationPolicy\": {\"type\": \"fixed\", \"numReplicas\": 1},\n",
    "    \"environment\": {}}"
   ]
  },
  {
   "cell_type": "code",
   "execution_count": null,
   "metadata": {},
   "outputs": [],
   "source": [
    "new_model_details = cml.create_model(create_model_params)\n",
    "access_key = new_model_details[\"accessKey\"]  # todo check for bad response\n",
    "model_id = new_model_details[\"id\"]\n",
    "\n",
    "print(\"New model created with access key\", access_key)"
   ]
  },
  {
   "cell_type": "code",
   "execution_count": null,
   "metadata": {},
   "outputs": [],
   "source": [
    "#Wait for the model to deploy.\n",
    "is_deployed = False\n",
    "while is_deployed == False:\n",
    "    model = cml.get_model({\"id\": str(new_model_details[\"id\"]), \"latestModelDeployment\": True, \"latestModelBuild\": True})\n",
    "    if model[\"latestModelDeployment\"][\"status\"] == 'deployed':\n",
    "        print(\"Model is deployed\")\n",
    "        break\n",
    "    else:\n",
    "        print (\"Deploying Model.....\")\n",
    "        time.sleep(10)"
   ]
  },
  {
   "cell_type": "code",
   "execution_count": null,
   "metadata": {},
   "outputs": [],
   "source": [
    "##Will let you create new model or delete model but not redeploy programmatically. \n",
    "##Will need to remove model and recreate dynamically"
   ]
  },
  {
   "cell_type": "markdown",
   "metadata": {},
   "source": [
    "Experiments"
   ]
  },
  {
   "cell_type": "code",
   "execution_count": null,
   "metadata": {},
   "outputs": [],
   "source": [
    "# Instantiate API Wrapper\n",
    "cml2 = CMLBootstrap(HOST, USERNAME, \"uuc48l0gm0r3n2mib27voxazoos65em0\", PROJECT_NAME)"
   ]
  },
  {
   "cell_type": "code",
   "execution_count": null,
   "metadata": {},
   "outputs": [],
   "source": [
    "run_experiment_params = {\n",
    "    \"size\": {\n",
    "        \"id\": 1,\n",
    "        \"description\": \"1 vCPU / 2 GiB Memory\",\n",
    "        \"cpu\": 1,\n",
    "        \"memory\": 2,\n",
    "        \"route\": \"engine-profiles\",\n",
    "        \"reqParams\": None,\n",
    "        \"parentResource\": {\n",
    "            \"route\": \"site\",\n",
    "            \"parentResource\": None\n",
    "        },\n",
    "        \"restangularCollection\": True\n",
    "    },\n",
    "    \"script\": \"new_model_experiment.py\",\n",
    "    \"arguments\": \" \",\n",
    "    \"kernel\": \"python3\",\n",
    "    \"cpu\": 1,\n",
    "    \"memory\": 2,\n",
    "    \"project\": str(project_id),\n",
    "    \"name\":\"new experiment name\"\n",
    "}"
   ]
  },
  {
   "cell_type": "code",
   "execution_count": null,
   "metadata": {},
   "outputs": [],
   "source": [
    "new_experiment_details = cml2.run_experiment(run_experiment_params)"
   ]
  },
  {
   "cell_type": "markdown",
   "metadata": {},
   "source": [
    "Set Experiment Values"
   ]
  },
  {
   "cell_type": "code",
   "execution_count": 13,
   "metadata": {},
   "outputs": [],
   "source": [
    "from Experiment import Experiment\n",
    "from sklearn.ensemble import GradientBoostingClassifier"
   ]
  },
  {
   "cell_type": "code",
   "execution_count": 14,
   "metadata": {},
   "outputs": [],
   "source": [
    "ex1 = Experiment('data', GradientBoostingClassifier(), {'param':[1,2,3]})"
   ]
  },
  {
   "cell_type": "code",
   "execution_count": 15,
   "metadata": {},
   "outputs": [
    {
     "data": {
      "text/plain": [
       "GradientBoostingClassifier()"
      ]
     },
     "execution_count": 15,
     "metadata": {},
     "output_type": "execute_result"
    }
   ],
   "source": [
    "ex1.classifier"
   ]
  },
  {
   "cell_type": "code",
   "execution_count": 16,
   "metadata": {},
   "outputs": [],
   "source": [
    "import new_model_experiment"
   ]
  },
  {
   "cell_type": "code",
   "execution_count": 17,
   "metadata": {},
   "outputs": [],
   "source": [
    "var = 100"
   ]
  },
  {
   "cell_type": "code",
   "execution_count": null,
   "metadata": {},
   "outputs": [],
   "source": []
  }
 ],
 "metadata": {
  "kernelspec": {
   "display_name": "Python 3",
   "language": "python",
   "name": "python3"
  },
  "language_info": {
   "codemirror_mode": {
    "name": "ipython",
    "version": 3
   },
   "file_extension": ".py",
   "mimetype": "text/x-python",
   "name": "python",
   "nbconvert_exporter": "python",
   "pygments_lexer": "ipython3",
   "version": "3.6.10"
  }
 },
 "nbformat": 4,
 "nbformat_minor": 4
}
